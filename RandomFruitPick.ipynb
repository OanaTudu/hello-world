{
  "nbformat": 4,
  "nbformat_minor": 0,
  "metadata": {
    "colab": {
      "name": "Untitled3.ipynb",
      "version": "0.3.2",
      "provenance": [],
      "include_colab_link": true
    },
    "kernelspec": {
      "name": "python3",
      "display_name": "Python 3"
    }
  },
  "cells": [
    {
      "cell_type": "markdown",
      "metadata": {
        "id": "view-in-github",
        "colab_type": "text"
      },
      "source": [
        "<a href=\"https://colab.research.google.com/github/OanaTudu/various/blob/master/RandomFruitPick.ipynb\" target=\"_parent\"><img src=\"https://colab.research.google.com/assets/colab-badge.svg\" alt=\"Open In Colab\"/></a>"
      ]
    },
    {
      "metadata": {
        "id": "s1kvJsVTVcxb",
        "colab_type": "code",
        "colab": {}
      },
      "cell_type": "code",
      "source": [
        "import numpy as np"
      ],
      "execution_count": 0,
      "outputs": []
    },
    {
      "metadata": {
        "id": "CXcTzAwQVoX7",
        "colab_type": "text"
      },
      "cell_type": "markdown",
      "source": [
        "So have a dictionary that has a list of fruits"
      ]
    },
    {
      "metadata": {
        "id": "_g6JDdM8VuFm",
        "colab_type": "code",
        "colab": {}
      },
      "cell_type": "code",
      "source": [
        "fruits = {'apple': 4, 'orange': 2, 'banana': 5}\n"
      ],
      "execution_count": 0,
      "outputs": []
    },
    {
      "metadata": {
        "id": "DHVy-kxcXW2r",
        "colab_type": "code",
        "colab": {
          "base_uri": "https://localhost:8080/",
          "height": 34
        },
        "outputId": "cdd8a073-ca23-432e-f796-25798496b19d"
      },
      "cell_type": "code",
      "source": [
        "total_fruits = sum(fruits.values())\n",
        "\n",
        "print(total_fruits)"
      ],
      "execution_count": 3,
      "outputs": [
        {
          "output_type": "stream",
          "text": [
            "11\n"
          ],
          "name": "stdout"
        }
      ]
    },
    {
      "metadata": {
        "id": "clhOzlg0V0ZW",
        "colab_type": "code",
        "colab": {}
      },
      "cell_type": "code",
      "source": [
        "def get_fruit(fruits):\n",
        "  prob = []\n",
        "  returned_fruit_pb = []\n",
        "  total_fruits = sum(fruits.values())\n",
        "  i=0\n",
        "  rand_draw = np.random.rand()\n",
        "  for fruit in fruits.keys():\n",
        "    pb = fruits[fruit]/total_fruits\n",
        "    prob.append(pb)\n",
        "    if i > 0:\n",
        "      returned_fruit_pb.append(returned_fruit_pb[i-1] + pb)\n",
        "    else:\n",
        "      returned_fruit_pb.append(pb)\n",
        "        \n",
        "    i+=1\n",
        "  names = list(fruits.keys())  \n",
        "  for k,j in enumerate(returned_fruit_pb):\n",
        "    if rand_draw <= j: return names[k]\n",
        "   "
      ],
      "execution_count": 0,
      "outputs": []
    },
    {
      "metadata": {
        "id": "WZOj5hTgYMtZ",
        "colab_type": "code",
        "colab": {
          "base_uri": "https://localhost:8080/",
          "height": 34
        },
        "outputId": "b4e5d262-59c2-44fe-d79f-7c221b523aa7"
      },
      "cell_type": "code",
      "source": [
        "print(get_fruit(fruits))"
      ],
      "execution_count": 33,
      "outputs": [
        {
          "output_type": "stream",
          "text": [
            "apple\n"
          ],
          "name": "stdout"
        }
      ]
    },
    {
      "metadata": {
        "id": "zRA26GtSYS2F",
        "colab_type": "code",
        "colab": {}
      },
      "cell_type": "code",
      "source": [
        "\n"
      ],
      "execution_count": 0,
      "outputs": []
    },
    {
      "metadata": {
        "id": "UGwzIBy3ZTbM",
        "colab_type": "code",
        "colab": {}
      },
      "cell_type": "code",
      "source": [
        ""
      ],
      "execution_count": 0,
      "outputs": []
    }
  ]
}